{
 "cells": [
  {
   "cell_type": "code",
   "execution_count": null,
   "id": "f3774243",
   "metadata": {},
   "outputs": [],
   "source": [
    "#1.What are the two values of the Boolean data type? How do you write them?\n",
    "ans- the two values of values of the boolean data type are true and false \n",
    "     we can write them as "
   ]
  },
  {
   "cell_type": "code",
   "execution_count": 6,
   "id": "039b721b",
   "metadata": {},
   "outputs": [
    {
     "name": "stdout",
     "output_type": "stream",
     "text": [
      "False\n"
     ]
    }
   ],
   "source": [
    "print(1==4)"
   ]
  },
  {
   "cell_type": "code",
   "execution_count": 5,
   "id": "0c6abe6a",
   "metadata": {},
   "outputs": [
    {
     "name": "stdout",
     "output_type": "stream",
     "text": [
      "True\n"
     ]
    }
   ],
   "source": [
    "print(7>1)"
   ]
  },
  {
   "cell_type": "code",
   "execution_count": null,
   "id": "393cf1bf",
   "metadata": {},
   "outputs": [],
   "source": [
    "#2. What are the three different types of Boolean operators?\n",
    "three different types of boolean operators are and,or and not."
   ]
  },
  {
   "cell_type": "code",
   "execution_count": null,
   "id": "50285d9f",
   "metadata": {},
   "outputs": [],
   "source": [
    "#3. Make a list of each Boolean operator's truth tables (i.e. every possible combination of Boolean values for the operator and what it evaluate ).\n",
    "ans \n",
    "\n",
    "\n",
    "        X       Y           X+Y\n",
    "    \n",
    "       false   false        false\n",
    "       true    false        true\n",
    "       false   true         true\n",
    "       true    true         true\n",
    "\n"
   ]
  },
  {
   "cell_type": "code",
   "execution_count": null,
   "id": "f3ba9d0b",
   "metadata": {},
   "outputs": [],
   "source": [
    "   \n",
    "4. What are the values of the following expressions?\n",
    "\n",
    "(5 > 4) and (3 == 5)\n",
    "not (5 > 4)\n",
    "(5 > 4) or (3 == 5)\n",
    "not ((5 > 4) or (3 == 5))\n",
    "(True and True) and (True == False)\n",
    "(not False) or (not True)\n"
   ]
  },
  {
   "cell_type": "code",
   "execution_count": 12,
   "id": "e3502736",
   "metadata": {},
   "outputs": [],
   "source": [
    "if a=(5 > 4) and b= (3==5):\n",
    "    "
   ]
  },
  {
   "cell_type": "code",
   "execution_count": null,
   "id": "6d118104",
   "metadata": {},
   "outputs": [],
   "source": [
    "5. What are the six comparison operators?\n",
    "\n",
    "ans-> A comparison operator compares two values and returns a boolean value, either True or False .\n",
    "      Python has six comparison operators: less than ( < ), less than or equal to ( <= ), greater than ( > ),\n",
    "      greater than or equal to ( >= ), equal to ( == ), and not equal to ( != )."
   ]
  },
  {
   "cell_type": "code",
   "execution_count": 2,
   "id": "b81e02c4",
   "metadata": {},
   "outputs": [
    {
     "name": "stdout",
     "output_type": "stream",
     "text": [
      "14\n"
     ]
    }
   ],
   "source": [
    "#6.   How do you tell the difference between the equal to and assignment operators?\n",
    "#     Describe a condition and when you would use one.\n",
    "    \n",
    "#ans-> Assignment Operators are used to perform operations on values and variables.\n",
    "#      These are the special symbols that carry out arithmetic, logical, bitwise computations \n",
    "a=6\n",
    "b=8\n",
    "c=a+b \n",
    "print(c)"
   ]
  },
  {
   "cell_type": "code",
   "execution_count": 12,
   "id": "6b3fa104",
   "metadata": {},
   "outputs": [
    {
     "name": "stdout",
     "output_type": "stream",
     "text": [
      "false\n"
     ]
    }
   ],
   "source": [
    "#   The Equality operator (==) compares the values of both the operands and checks for value equality.\n",
    "a=7\n",
    "b=8\n",
    "if a==b:\n",
    "    print('true')\n",
    "else:\n",
    "    print('false')"
   ]
  },
  {
   "cell_type": "code",
   "execution_count": null,
   "id": "7821039a",
   "metadata": {},
   "outputs": [],
   "source": [
    "7. Identify the three blocks in this code:\n",
    "spam = 0\n",
    "if spam == 10:\n",
    "print('eggs')\n",
    "if spam > 5:\n",
    "print('bacon')\n",
    "else:\n",
    "print('ham')\n",
    "print('spam')\n",
    "print('spam')\n"
   ]
  },
  {
   "cell_type": "code",
   "execution_count": 3,
   "id": "2f0e36d2",
   "metadata": {},
   "outputs": [
    {
     "name": "stdout",
     "output_type": "stream",
     "text": [
      "ham\n"
     ]
    }
   ],
   "source": [
    "spam = 0\n",
    "\n",
    "if spam == 10:\n",
    "    \n",
    "    print('eggs')\n",
    "else:\n",
    "    print(\"ham\")"
   ]
  },
  {
   "cell_type": "code",
   "execution_count": 4,
   "id": "da00d311",
   "metadata": {},
   "outputs": [
    {
     "name": "stdout",
     "output_type": "stream",
     "text": [
      "ham\n"
     ]
    }
   ],
   "source": [
    "if spam>5:\n",
    "    print(\"bacon\")\n",
    "else:\n",
    "    print('ham')"
   ]
  },
  {
   "cell_type": "code",
   "execution_count": 5,
   "id": "b984be0e",
   "metadata": {},
   "outputs": [],
   "source": [
    "# 8. Write code that prints Hello if 1 is stored in spam, prints Howdy\n",
    "#   if 2 is stored in spam, and prints Greetings! if anything else is stored in spam."
   ]
  },
  {
   "cell_type": "code",
   "execution_count": 10,
   "id": "7c7f9d8d",
   "metadata": {},
   "outputs": [
    {
     "name": "stdout",
     "output_type": "stream",
     "text": [
      "1\n",
      "greetins\n"
     ]
    }
   ],
   "source": [
    "spam=input()\n",
    "if spam == 1:\n",
    "    print('hello')\n",
    "elif spam ==2:\n",
    "        print('howdy')\n",
    "else:\n",
    "    print('greetins')"
   ]
  },
  {
   "cell_type": "code",
   "execution_count": 11,
   "id": "71d8edff",
   "metadata": {},
   "outputs": [
    {
     "name": "stdout",
     "output_type": "stream",
     "text": [
      "hf\n",
      "greetins\n"
     ]
    }
   ],
   "source": [
    "spam=input()\n",
    "if spam == 1:\n",
    "    print('hello')\n",
    "elif spam ==2:\n",
    "        print('howdy')\n",
    "else:\n",
    "    print('greetins')"
   ]
  },
  {
   "cell_type": "code",
   "execution_count": null,
   "id": "dffacd2b",
   "metadata": {},
   "outputs": [],
   "source": [
    "9.  If your programme is stuck in an endless loop, what keys you’ll press?\n",
    "\n",
    "ans-> CTRL+C"
   ]
  },
  {
   "cell_type": "code",
   "execution_count": null,
   "id": "db58a759",
   "metadata": {},
   "outputs": [],
   "source": [
    "10. How can you tell the difference between break and continue?\n",
    "\n",
    "ans->The 'break 'stop the continuation of the loop.\n",
    "     where asThe 'continue' does not stop the continuation of loop and it stops the current.\n",
    "\n"
   ]
  },
  {
   "cell_type": "code",
   "execution_count": 2,
   "id": "aae9cddf",
   "metadata": {},
   "outputs": [
    {
     "name": "stdout",
     "output_type": "stream",
     "text": [
      "0 \n",
      "1 \n",
      "2 \n",
      "3 \n",
      "4 \n",
      "5 \n",
      "6 \n",
      "7 \n",
      "8 \n",
      "9 \n"
     ]
    }
   ],
   "source": [
    "#11. In a for loop, what is the difference between range(10), range(0, 10), and range(0, 10, 1)?\n",
    " # ans-> \n",
    "for i in range(10):\n",
    "    print(i , \"\")"
   ]
  },
  {
   "cell_type": "code",
   "execution_count": 3,
   "id": "226fe92b",
   "metadata": {},
   "outputs": [
    {
     "name": "stdout",
     "output_type": "stream",
     "text": [
      "0 \n",
      "1 \n",
      "2 \n",
      "3 \n",
      "4 \n",
      "5 \n",
      "6 \n",
      "7 \n",
      "8 \n",
      "9 \n"
     ]
    }
   ],
   "source": [
    "for i in range (0,10):\n",
    "    print(i, \"\")"
   ]
  },
  {
   "cell_type": "code",
   "execution_count": 6,
   "id": "a06f66cf",
   "metadata": {},
   "outputs": [
    {
     "name": "stdout",
     "output_type": "stream",
     "text": [
      "0 1 2 3 4 5 6 7 8 9 "
     ]
    }
   ],
   "source": [
    "for i in range(0,10,1):\n",
    "    print(i, end=\" \")"
   ]
  },
  {
   "cell_type": "code",
   "execution_count": null,
   "id": "ae7920f3",
   "metadata": {},
   "outputs": [],
   "source": [
    "there is no difference in  range(10), range(0, 10), and range(0, 10, 1)"
   ]
  },
  {
   "cell_type": "code",
   "execution_count": null,
   "id": "241faee7",
   "metadata": {},
   "outputs": [],
   "source": [
    "#12. Write a short program that prints the numbers 1 to 10 using a for loop. \n",
    "#    Then write an equivalent program that prints the numbers 1 to 10 using a while loop."
   ]
  },
  {
   "cell_type": "code",
   "execution_count": 8,
   "id": "7ceeea90",
   "metadata": {},
   "outputs": [
    {
     "name": "stdout",
     "output_type": "stream",
     "text": [
      "1 2 3 4 5 6 7 8 9 10 "
     ]
    }
   ],
   "source": [
    "for i in range(1,11,1):\n",
    "    print(i ,end=\" \")"
   ]
  },
  {
   "cell_type": "code",
   "execution_count": 14,
   "id": "b54675aa",
   "metadata": {},
   "outputs": [
    {
     "name": "stdout",
     "output_type": "stream",
     "text": [
      "1\n",
      "2\n",
      "3\n",
      "4\n",
      "5\n",
      "6\n",
      "7\n",
      "8\n",
      "9\n",
      "10\n"
     ]
    }
   ],
   "source": [
    "i=1\n",
    "while i<=10:\n",
    "    print(i)\n",
    "    i +=1"
   ]
  },
  {
   "cell_type": "code",
   "execution_count": null,
   "id": "227b3d77",
   "metadata": {},
   "outputs": [],
   "source": [
    "13. If you had a function named bacon() inside a module named spam,\n",
    "    how would you call it after importing spam?"
   ]
  }
 ],
 "metadata": {
  "kernelspec": {
   "display_name": "Python 3 (ipykernel)",
   "language": "python",
   "name": "python3"
  },
  "language_info": {
   "codemirror_mode": {
    "name": "ipython",
    "version": 3
   },
   "file_extension": ".py",
   "mimetype": "text/x-python",
   "name": "python",
   "nbconvert_exporter": "python",
   "pygments_lexer": "ipython3",
   "version": "3.9.7"
  }
 },
 "nbformat": 4,
 "nbformat_minor": 5
}

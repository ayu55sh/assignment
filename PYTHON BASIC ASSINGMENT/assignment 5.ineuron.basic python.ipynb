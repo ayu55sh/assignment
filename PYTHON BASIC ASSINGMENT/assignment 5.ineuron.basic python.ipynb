{
 "cells": [
  {
   "cell_type": "markdown",
   "id": "1451b69f",
   "metadata": {},
   "source": [
    "# 1. What does an empty dictionary's code look like?"
   ]
  },
  {
   "cell_type": "code",
   "execution_count": 1,
   "id": "49fee14b",
   "metadata": {},
   "outputs": [],
   "source": [
    "a={}"
   ]
  },
  {
   "cell_type": "code",
   "execution_count": 2,
   "id": "056596ed",
   "metadata": {},
   "outputs": [
    {
     "data": {
      "text/plain": [
       "dict"
      ]
     },
     "execution_count": 2,
     "metadata": {},
     "output_type": "execute_result"
    }
   ],
   "source": [
    "type(a)"
   ]
  },
  {
   "cell_type": "markdown",
   "id": "c8871388",
   "metadata": {},
   "source": [
    "# 2. What is the value of a dictionary value with the key 'foo' and the value 42?"
   ]
  },
  {
   "cell_type": "code",
   "execution_count": 3,
   "id": "13501e1f",
   "metadata": {},
   "outputs": [],
   "source": [
    "a={\"foo\":42}"
   ]
  },
  {
   "cell_type": "markdown",
   "id": "bda3ef2a",
   "metadata": {},
   "source": [
    "type(a)"
   ]
  },
  {
   "cell_type": "code",
   "execution_count": 8,
   "id": "1f2b6f5d",
   "metadata": {},
   "outputs": [
    {
     "data": {
      "text/plain": [
       "42"
      ]
     },
     "execution_count": 8,
     "metadata": {},
     "output_type": "execute_result"
    }
   ],
   "source": [
    "a['foo']"
   ]
  },
  {
   "cell_type": "markdown",
   "id": "1909431a",
   "metadata": {},
   "source": [
    "# 3. What is the most significant distinction between a dictionary and a list?"
   ]
  },
  {
   "cell_type": "markdown",
   "id": "64cdb2a5",
   "metadata": {},
   "source": [
    "The most significant distinction between a dictionary and a list is"
   ]
  },
  {
   "cell_type": "markdown",
   "id": "421a961e",
   "metadata": {},
   "source": [
    "# list"
   ]
  },
  {
   "cell_type": "markdown",
   "id": "34b79e16",
   "metadata": {},
   "source": [
    "Lists are just like the arrays, declared in other languages. Lists need not be homogeneous always which makes it a most powerful tool in Python. A single list may contain DataTypes like Integers, Strings, as well as Objects."
   ]
  },
  {
   "cell_type": "code",
   "execution_count": 12,
   "id": "ddf2dbd9",
   "metadata": {},
   "outputs": [
    {
     "name": "stdout",
     "output_type": "stream",
     "text": [
      "list is most useful data type in python\n"
     ]
    },
    {
     "data": {
      "text/plain": [
       "'python'"
      ]
     },
     "execution_count": 12,
     "metadata": {},
     "output_type": "execute_result"
    }
   ],
   "source": [
    "list=['i','love','python']\n",
    "print(\"list is most useful data type in python\")\n",
    "\n",
    "list[2]"
   ]
  },
  {
   "cell_type": "code",
   "execution_count": 13,
   "id": "2e8bbd8b",
   "metadata": {},
   "outputs": [
    {
     "data": {
      "text/plain": [
       "'i'"
      ]
     },
     "execution_count": 13,
     "metadata": {},
     "output_type": "execute_result"
    }
   ],
   "source": [
    "list[0]"
   ]
  },
  {
   "cell_type": "markdown",
   "id": "24e2cac5",
   "metadata": {},
   "source": [
    "# Dictionary"
   ]
  },
  {
   "cell_type": "markdown",
   "id": "8bb43bca",
   "metadata": {},
   "source": [
    "Dictionary in Python on the other hand is an unordered collection of data values, used to store data values like a map, which unlike other Data Types that hold only single value as an element, Dictionary holds key:value pair. Key-value is provided in the dictionary to make it more optimized."
   ]
  },
  {
   "cell_type": "code",
   "execution_count": 14,
   "id": "04a589e3",
   "metadata": {},
   "outputs": [
    {
     "name": "stdout",
     "output_type": "stream",
     "text": [
      "{1: 'muzaffarpur', 'Ayush': 'learner', 'photography': 'love'}\n"
     ]
    },
    {
     "data": {
      "text/plain": [
       "dict"
      ]
     },
     "execution_count": 14,
     "metadata": {},
     "output_type": "execute_result"
    }
   ],
   "source": [
    "dict={1:\"muzaffarpur\",\"Ayush\":\"learner\",\"photography\":\"love\"}\n",
    "print(dict)\n",
    "type(dict)"
   ]
  },
  {
   "cell_type": "markdown",
   "id": "a5e5ac98",
   "metadata": {},
   "source": [
    "# 4. What happens if you try to access spam['foo'] if spam is {'bar': 100}?"
   ]
  },
  {
   "cell_type": "code",
   "execution_count": 15,
   "id": "276bb3b9",
   "metadata": {},
   "outputs": [
    {
     "name": "stdout",
     "output_type": "stream",
     "text": [
      "{'bar': 100}\n"
     ]
    },
    {
     "data": {
      "text/plain": [
       "dict"
      ]
     },
     "execution_count": 15,
     "metadata": {},
     "output_type": "execute_result"
    }
   ],
   "source": [
    "spam={'bar':100}\n",
    "print(spam)\n",
    "type(spam)"
   ]
  },
  {
   "cell_type": "code",
   "execution_count": 18,
   "id": "94cc6a25",
   "metadata": {},
   "outputs": [
    {
     "ename": "KeyError",
     "evalue": "'foo'",
     "output_type": "error",
     "traceback": [
      "\u001b[1;31m---------------------------------------------------------------------------\u001b[0m",
      "\u001b[1;31mKeyError\u001b[0m                                  Traceback (most recent call last)",
      "\u001b[1;32m~\\AppData\\Local\\Temp/ipykernel_2112/3999281786.py\u001b[0m in \u001b[0;36m<module>\u001b[1;34m\u001b[0m\n\u001b[1;32m----> 1\u001b[1;33m \u001b[0mspam\u001b[0m\u001b[1;33m[\u001b[0m\u001b[1;34m'foo'\u001b[0m\u001b[1;33m]\u001b[0m\u001b[1;33m\u001b[0m\u001b[1;33m\u001b[0m\u001b[0m\n\u001b[0m",
      "\u001b[1;31mKeyError\u001b[0m: 'foo'"
     ]
    }
   ],
   "source": [
    "spam['foo']"
   ]
  },
  {
   "cell_type": "code",
   "execution_count": null,
   "id": "24e73154",
   "metadata": {},
   "outputs": [],
   "source": [
    "its throwing key error"
   ]
  },
  {
   "cell_type": "code",
   "execution_count": 16,
   "id": "827a8e88",
   "metadata": {},
   "outputs": [],
   "source": [
    "spam['bar']=\"foo\""
   ]
  },
  {
   "cell_type": "code",
   "execution_count": 17,
   "id": "20295ff9",
   "metadata": {},
   "outputs": [
    {
     "data": {
      "text/plain": [
       "{'bar': 'foo'}"
      ]
     },
     "execution_count": 17,
     "metadata": {},
     "output_type": "execute_result"
    }
   ],
   "source": [
    "spam"
   ]
  },
  {
   "cell_type": "markdown",
   "id": "80790c6b",
   "metadata": {},
   "source": [
    "# 5. If a dictionary is stored in spam, what is the difference between the expressions 'cat' in spam and 'cat' in spam.keys()?"
   ]
  },
  {
   "cell_type": "code",
   "execution_count": 19,
   "id": "c6beb174",
   "metadata": {},
   "outputs": [],
   "source": [
    "spam={\"cat\":123,\"ayush\":\"learner\"}"
   ]
  },
  {
   "cell_type": "code",
   "execution_count": 21,
   "id": "6166dcfc",
   "metadata": {},
   "outputs": [],
   "source": [
    "a= \"cat\" in spam"
   ]
  },
  {
   "cell_type": "code",
   "execution_count": 22,
   "id": "d6b9a570",
   "metadata": {},
   "outputs": [
    {
     "data": {
      "text/plain": [
       "True"
      ]
     },
     "execution_count": 22,
     "metadata": {},
     "output_type": "execute_result"
    }
   ],
   "source": [
    "a"
   ]
  },
  {
   "cell_type": "code",
   "execution_count": 23,
   "id": "bab1953a",
   "metadata": {},
   "outputs": [],
   "source": [
    "b=\"ayush\" in spam.keys()"
   ]
  },
  {
   "cell_type": "code",
   "execution_count": 24,
   "id": "033a6cbc",
   "metadata": {},
   "outputs": [
    {
     "data": {
      "text/plain": [
       "True"
      ]
     },
     "execution_count": 24,
     "metadata": {},
     "output_type": "execute_result"
    }
   ],
   "source": [
    "b"
   ]
  },
  {
   "cell_type": "code",
   "execution_count": 26,
   "id": "c18716c6",
   "metadata": {},
   "outputs": [],
   "source": [
    "#there is no difference in the spam and spam.keys()"
   ]
  },
  {
   "cell_type": "markdown",
   "id": "956b2b41",
   "metadata": {},
   "source": [
    "# 6. If a dictionary is stored in spam, what is the difference between the expressions 'cat' in spam and 'cat' in spam.values()?"
   ]
  },
  {
   "cell_type": "code",
   "execution_count": 27,
   "id": "3ebd24ef",
   "metadata": {},
   "outputs": [],
   "source": [
    "spam={\"cat\":123,\"ayush\":\"learner\"}"
   ]
  },
  {
   "cell_type": "code",
   "execution_count": 28,
   "id": "a4ec1ff4",
   "metadata": {},
   "outputs": [],
   "source": [
    "a= \"cat\" in spam"
   ]
  },
  {
   "cell_type": "code",
   "execution_count": 29,
   "id": "8c4df659",
   "metadata": {},
   "outputs": [
    {
     "data": {
      "text/plain": [
       "True"
      ]
     },
     "execution_count": 29,
     "metadata": {},
     "output_type": "execute_result"
    }
   ],
   "source": [
    "a"
   ]
  },
  {
   "cell_type": "code",
   "execution_count": 30,
   "id": "b835573d",
   "metadata": {},
   "outputs": [],
   "source": [
    "b='cat' in spam.values()"
   ]
  },
  {
   "cell_type": "code",
   "execution_count": 31,
   "id": "94d426e1",
   "metadata": {},
   "outputs": [
    {
     "data": {
      "text/plain": [
       "False"
      ]
     },
     "execution_count": 31,
     "metadata": {},
     "output_type": "execute_result"
    }
   ],
   "source": [
    "b"
   ]
  },
  {
   "cell_type": "markdown",
   "id": "0a834a51",
   "metadata": {},
   "source": [
    "cat in spam check that is cat present as a key in the spam or not and spam.values() check that is \"cat is present in the spam as \"cat\" or not"
   ]
  },
  {
   "cell_type": "markdown",
   "id": "18310765",
   "metadata": {},
   "source": [
    "# 7. What is a shortcut for the following code?"
   ]
  },
  {
   "cell_type": "code",
   "execution_count": null,
   "id": "9144370b",
   "metadata": {},
   "outputs": [],
   "source": [
    "if 'color' not in spam:\n",
    "spam['color'] = 'black'\n"
   ]
  },
  {
   "cell_type": "code",
   "execution_count": null,
   "id": "4bf68eed",
   "metadata": {},
   "outputs": [],
   "source": [
    "spam"
   ]
  },
  {
   "cell_type": "code",
   "execution_count": 10,
   "id": "0ecde06b",
   "metadata": {},
   "outputs": [],
   "source": [
    "spam={\"you\":1234,13:\"ayush\"}"
   ]
  },
  {
   "cell_type": "code",
   "execution_count": 6,
   "id": "e262fbf8",
   "metadata": {},
   "outputs": [
    {
     "data": {
      "text/plain": [
       "'black'"
      ]
     },
     "execution_count": 6,
     "metadata": {},
     "output_type": "execute_result"
    }
   ],
   "source": [
    "spam.setdefault(\"color\",\"black\")"
   ]
  },
  {
   "cell_type": "code",
   "execution_count": 7,
   "id": "cc6849bf",
   "metadata": {},
   "outputs": [
    {
     "data": {
      "text/plain": [
       "{'you': 1234, 13: 'ayush', 'color': 'black'}"
      ]
     },
     "execution_count": 7,
     "metadata": {},
     "output_type": "execute_result"
    }
   ],
   "source": [
    "spam"
   ]
  },
  {
   "cell_type": "markdown",
   "id": "0638440c",
   "metadata": {},
   "source": [
    "# 8. How do you \"pretty print\" dictionary values using which module and function?"
   ]
  },
  {
   "cell_type": "markdown",
   "id": "5c7a445f",
   "metadata": {},
   "source": [
    "pprint is a Python module that provides the capability to pretty print Python data types to be more readable. This module also supports pretty-printing dictionary."
   ]
  },
  {
   "cell_type": "code",
   "execution_count": 11,
   "id": "71659607",
   "metadata": {},
   "outputs": [],
   "source": [
    "import pprint"
   ]
  },
  {
   "cell_type": "code",
   "execution_count": 13,
   "id": "6eddc82d",
   "metadata": {},
   "outputs": [
    {
     "name": "stdout",
     "output_type": "stream",
     "text": [
      "{13: 'ayush', 'you': 1234}\n"
     ]
    }
   ],
   "source": [
    "pprint.pprint(spam)"
   ]
  },
  {
   "cell_type": "code",
   "execution_count": null,
   "id": "e89acce4",
   "metadata": {},
   "outputs": [],
   "source": []
  }
 ],
 "metadata": {
  "kernelspec": {
   "display_name": "Python 3 (ipykernel)",
   "language": "python",
   "name": "python3"
  },
  "language_info": {
   "codemirror_mode": {
    "name": "ipython",
    "version": 3
   },
   "file_extension": ".py",
   "mimetype": "text/x-python",
   "name": "python",
   "nbconvert_exporter": "python",
   "pygments_lexer": "ipython3",
   "version": "3.9.7"
  }
 },
 "nbformat": 4,
 "nbformat_minor": 5
}

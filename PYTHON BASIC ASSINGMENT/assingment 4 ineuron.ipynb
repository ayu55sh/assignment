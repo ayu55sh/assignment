{
 "cells": [
  {
   "cell_type": "markdown",
   "id": "7bf5e0ad",
   "metadata": {},
   "source": [
    "# 1. What exactly is []?\n",
    "\n",
    "    \n"
   ]
  },
  {
   "cell_type": "code",
   "execution_count": null,
   "id": "7c568191",
   "metadata": {},
   "outputs": [],
   "source": [
    "[ ]is a empty list."
   ]
  },
  {
   "cell_type": "code",
   "execution_count": null,
   "id": "297b88e6",
   "metadata": {},
   "outputs": [],
   "source": [
    "In a list of values stored in a variable called spam, how would you assign the value 'hello' as the third value? (Assume [2, 4, 6, 8, 10] are in spam.)"
   ]
  },
  {
   "cell_type": "code",
   "execution_count": null,
   "id": "2593c79a",
   "metadata": {},
   "outputs": [],
   "source": []
  },
  {
   "cell_type": "markdown",
   "id": "66027158",
   "metadata": {},
   "source": [
    "# 2. In a list of values stored in a variable called spam, how would you assign the value 'hello' as the third value? (Assume [2, 4, 6, 8, 10] are in spam.)\n",
    "\n",
    "\n"
   ]
  },
  {
   "cell_type": "markdown",
   "id": "c0dec8d2",
   "metadata": {},
   "source": [
    "in order to assign \"hello\" at 3rd value . we need to modify the value index 2 of spam mlist"
   ]
  },
  {
   "cell_type": "code",
   "execution_count": 2,
   "id": "1b7dc5d6",
   "metadata": {},
   "outputs": [
    {
     "name": "stdout",
     "output_type": "stream",
     "text": [
      "[2, 3, 4, 6, 8, 10]\n",
      "[2, 3, 'hello', 6, 8, 10]\n"
     ]
    }
   ],
   "source": [
    "spam=[2,3,4,6,8,10]\n",
    "print(spam)\n",
    "spam[2]=\"hello\"\n",
    "print(spam)"
   ]
  },
  {
   "cell_type": "markdown",
   "id": "0c7134f1",
   "metadata": {},
   "source": [
    "# Let's pretend the spam includes the list ['a', 'b', 'c', 'd'] for the next three queries."
   ]
  },
  {
   "cell_type": "code",
   "execution_count": 16,
   "id": "126edf0e",
   "metadata": {},
   "outputs": [],
   "source": [
    "spam=['a','b','c','d']"
   ]
  },
  {
   "cell_type": "code",
   "execution_count": 25,
   "id": "686ab5d9",
   "metadata": {},
   "outputs": [
    {
     "data": {
      "text/plain": [
       "['a', 'b', 'c', 'd']"
      ]
     },
     "execution_count": 25,
     "metadata": {},
     "output_type": "execute_result"
    }
   ],
   "source": [
    "spam"
   ]
  },
  {
   "cell_type": "markdown",
   "id": "3aff151a",
   "metadata": {},
   "source": [
    "# 3. What is the value of spam[int(int('3' * 2) / 11)]?"
   ]
  },
  {
   "cell_type": "code",
   "execution_count": 26,
   "id": "3ef6c915",
   "metadata": {},
   "outputs": [
    {
     "data": {
      "text/plain": [
       "'d'"
      ]
     },
     "execution_count": 26,
     "metadata": {},
     "output_type": "execute_result"
    }
   ],
   "source": [
    "spam[int(int('3' * 2) / 11)]"
   ]
  },
  {
   "cell_type": "code",
   "execution_count": 18,
   "id": "0492ddb3",
   "metadata": {},
   "outputs": [],
   "source": [
    "a=int('3'*2)"
   ]
  },
  {
   "cell_type": "code",
   "execution_count": 19,
   "id": "4749e625",
   "metadata": {},
   "outputs": [
    {
     "data": {
      "text/plain": [
       "33"
      ]
     },
     "execution_count": 19,
     "metadata": {},
     "output_type": "execute_result"
    }
   ],
   "source": [
    "a\n"
   ]
  },
  {
   "cell_type": "code",
   "execution_count": 20,
   "id": "69f35539",
   "metadata": {},
   "outputs": [
    {
     "data": {
      "text/plain": [
       "3"
      ]
     },
     "execution_count": 20,
     "metadata": {},
     "output_type": "execute_result"
    }
   ],
   "source": [
    "int(int('3'*2)/11)"
   ]
  },
  {
   "cell_type": "code",
   "execution_count": 21,
   "id": "bcd7a600",
   "metadata": {},
   "outputs": [],
   "source": [
    "b=int(a/11)"
   ]
  },
  {
   "cell_type": "code",
   "execution_count": 22,
   "id": "0db0b1d7",
   "metadata": {},
   "outputs": [
    {
     "data": {
      "text/plain": [
       "3"
      ]
     },
     "execution_count": 22,
     "metadata": {},
     "output_type": "execute_result"
    }
   ],
   "source": [
    "b"
   ]
  },
  {
   "cell_type": "code",
   "execution_count": 24,
   "id": "9e9ac89a",
   "metadata": {},
   "outputs": [
    {
     "data": {
      "text/plain": [
       "'d'"
      ]
     },
     "execution_count": 24,
     "metadata": {},
     "output_type": "execute_result"
    }
   ],
   "source": [
    "spam[int(int('3' * 2) / 11)]"
   ]
  },
  {
   "cell_type": "code",
   "execution_count": null,
   "id": "2ab11b2e",
   "metadata": {},
   "outputs": [],
   "source": []
  },
  {
   "cell_type": "markdown",
   "id": "37810eff",
   "metadata": {},
   "source": [
    "# 4. What is the value of spam[-1]?"
   ]
  },
  {
   "cell_type": "code",
   "execution_count": 32,
   "id": "82b447d5",
   "metadata": {},
   "outputs": [],
   "source": [
    "spam=['a','b','c','d']"
   ]
  },
  {
   "cell_type": "code",
   "execution_count": 33,
   "id": "b042d2f8",
   "metadata": {},
   "outputs": [
    {
     "data": {
      "text/plain": [
       "'d'"
      ]
     },
     "execution_count": 33,
     "metadata": {},
     "output_type": "execute_result"
    }
   ],
   "source": [
    "spam[-1]"
   ]
  },
  {
   "cell_type": "markdown",
   "id": "6a9b3f35",
   "metadata": {},
   "source": [
    "# 5. What is the value of spam[:2]?"
   ]
  },
  {
   "cell_type": "code",
   "execution_count": 35,
   "id": "f24785f2",
   "metadata": {},
   "outputs": [],
   "source": [
    "spam=['a','b','c','d']"
   ]
  },
  {
   "cell_type": "code",
   "execution_count": 36,
   "id": "6c3f2b92",
   "metadata": {},
   "outputs": [
    {
     "data": {
      "text/plain": [
       "['a', 'b']"
      ]
     },
     "execution_count": 36,
     "metadata": {},
     "output_type": "execute_result"
    }
   ],
   "source": [
    "spam[:2]"
   ]
  },
  {
   "cell_type": "markdown",
   "id": "a07130b7",
   "metadata": {},
   "source": [
    "# Let's pretend bacon has the list [3.14, 'cat,' 11, 'cat,' True] for the next three questions."
   ]
  },
  {
   "cell_type": "code",
   "execution_count": 2,
   "id": "f261f21a",
   "metadata": {},
   "outputs": [],
   "source": [
    "bacon =[3,14,'cat',11,'cat',True]"
   ]
  },
  {
   "cell_type": "markdown",
   "id": "addc9ecd",
   "metadata": {},
   "source": [
    "# 6. What is the value of bacon.index('cat')?"
   ]
  },
  {
   "cell_type": "code",
   "execution_count": 3,
   "id": "e7bd9986",
   "metadata": {},
   "outputs": [
    {
     "data": {
      "text/plain": [
       "2"
      ]
     },
     "execution_count": 3,
     "metadata": {},
     "output_type": "execute_result"
    }
   ],
   "source": [
    "bacon.index(\"cat\")"
   ]
  },
  {
   "cell_type": "markdown",
   "id": "8c83dbbd",
   "metadata": {},
   "source": [
    "# 7. How does bacon.append(99) change the look of the list value in bacon?"
   ]
  },
  {
   "cell_type": "code",
   "execution_count": 4,
   "id": "8385a8e8",
   "metadata": {},
   "outputs": [],
   "source": [
    "bacon.append(99)"
   ]
  },
  {
   "cell_type": "code",
   "execution_count": 5,
   "id": "354897cf",
   "metadata": {},
   "outputs": [
    {
     "data": {
      "text/plain": [
       "[3, 14, 'cat', 11, 'cat', True, 99]"
      ]
     },
     "execution_count": 5,
     "metadata": {},
     "output_type": "execute_result"
    }
   ],
   "source": [
    "bacon"
   ]
  },
  {
   "cell_type": "markdown",
   "id": "527d2057",
   "metadata": {},
   "source": [
    "# 8. How does bacon.remove('cat') change the look of the list in bacon?"
   ]
  },
  {
   "cell_type": "code",
   "execution_count": 6,
   "id": "53162a7c",
   "metadata": {},
   "outputs": [],
   "source": [
    "bacon.remove('cat')"
   ]
  },
  {
   "cell_type": "code",
   "execution_count": 7,
   "id": "18121e70",
   "metadata": {},
   "outputs": [
    {
     "data": {
      "text/plain": [
       "[3, 14, 11, 'cat', True, 99]"
      ]
     },
     "execution_count": 7,
     "metadata": {},
     "output_type": "execute_result"
    }
   ],
   "source": [
    "bacon"
   ]
  },
  {
   "cell_type": "code",
   "execution_count": null,
   "id": "4b9396b9",
   "metadata": {},
   "outputs": [],
   "source": [
    "bacon.remove(\"cat\")will remove first occurance of cat from the list"
   ]
  },
  {
   "cell_type": "markdown",
   "id": "3b996355",
   "metadata": {},
   "source": [
    "# 9. What are the list concatenation and list replication operators?"
   ]
  },
  {
   "cell_type": "code",
   "execution_count": null,
   "id": "df475990",
   "metadata": {},
   "outputs": [],
   "source": [
    " list concatenation means we are connecting two list and list replication operators means (*) "
   ]
  },
  {
   "cell_type": "markdown",
   "id": "c9ea1132",
   "metadata": {},
   "source": [
    "# 10. What is difference between the list methods append() and insert()?"
   ]
  },
  {
   "cell_type": "markdown",
   "id": "4615e6bb",
   "metadata": {},
   "source": [
    "#Append method appends the given object to the end of the list always."
   ]
  },
  {
   "cell_type": "markdown",
   "id": "1f159e45",
   "metadata": {},
   "source": [
    "The insert() method inserts the specified value at the specified position"
   ]
  },
  {
   "cell_type": "markdown",
   "id": "5aeb9fb5",
   "metadata": {},
   "source": [
    "# 11. What are the two methods for removing items from a list?"
   ]
  },
  {
   "cell_type": "markdown",
   "id": "536b39f1",
   "metadata": {},
   "source": [
    "two method"
   ]
  },
  {
   "cell_type": "code",
   "execution_count": null,
   "id": "7fd5613a",
   "metadata": {},
   "outputs": [],
   "source": [
    "1. list.remove(object)\n",
    "2. list.pop(index)"
   ]
  },
  {
   "cell_type": "markdown",
   "id": "efd3c315",
   "metadata": {},
   "source": [
    "# 12. Describe how list values and string values are identical."
   ]
  },
  {
   "cell_type": "code",
   "execution_count": 1,
   "id": "576810e6",
   "metadata": {},
   "outputs": [],
   "source": [
    "a=[12,122,'ayush',12.21,'saas']"
   ]
  },
  {
   "cell_type": "code",
   "execution_count": 3,
   "id": "f39ae7c3",
   "metadata": {},
   "outputs": [
    {
     "data": {
      "text/plain": [
       "list"
      ]
     },
     "execution_count": 3,
     "metadata": {},
     "output_type": "execute_result"
    }
   ],
   "source": [
    "type(a)"
   ]
  },
  {
   "cell_type": "code",
   "execution_count": 7,
   "id": "0079ba1b",
   "metadata": {},
   "outputs": [],
   "source": [
    "b=\"Ayushthakur\""
   ]
  },
  {
   "cell_type": "code",
   "execution_count": 8,
   "id": "a9911f84",
   "metadata": {},
   "outputs": [
    {
     "data": {
      "text/plain": [
       "str"
      ]
     },
     "execution_count": 8,
     "metadata": {},
     "output_type": "execute_result"
    }
   ],
   "source": [
    "type(b)"
   ]
  },
  {
   "cell_type": "markdown",
   "id": "c54df2e8",
   "metadata": {},
   "source": [
    "in list we can take different values like integer, float, string but in string we take only string. "
   ]
  },
  {
   "cell_type": "markdown",
   "id": "bedf99a8",
   "metadata": {},
   "source": [
    "# 13. What's the difference between tuples and lists?"
   ]
  },
  {
   "cell_type": "code",
   "execution_count": 10,
   "id": "7b53da7e",
   "metadata": {},
   "outputs": [],
   "source": [
    "a=(12,313,'ayush',67,'thakur')"
   ]
  },
  {
   "cell_type": "code",
   "execution_count": 11,
   "id": "d6adc682",
   "metadata": {},
   "outputs": [
    {
     "data": {
      "text/plain": [
       "tuple"
      ]
     },
     "execution_count": 11,
     "metadata": {},
     "output_type": "execute_result"
    }
   ],
   "source": [
    "type(a)"
   ]
  },
  {
   "cell_type": "code",
   "execution_count": 14,
   "id": "66c7ffb1",
   "metadata": {},
   "outputs": [
    {
     "ename": "TypeError",
     "evalue": "'tuple' object does not support item assignment",
     "output_type": "error",
     "traceback": [
      "\u001b[1;31m---------------------------------------------------------------------------\u001b[0m",
      "\u001b[1;31mTypeError\u001b[0m                                 Traceback (most recent call last)",
      "\u001b[1;32m~\\AppData\\Local\\Temp/ipykernel_3916/3355152611.py\u001b[0m in \u001b[0;36m<module>\u001b[1;34m\u001b[0m\n\u001b[1;32m----> 1\u001b[1;33m \u001b[0ma\u001b[0m\u001b[1;33m[\u001b[0m\u001b[1;36m1\u001b[0m\u001b[1;33m]\u001b[0m\u001b[1;33m=\u001b[0m\u001b[1;34m'kalin'\u001b[0m\u001b[1;33m\u001b[0m\u001b[1;33m\u001b[0m\u001b[0m\n\u001b[0m",
      "\u001b[1;31mTypeError\u001b[0m: 'tuple' object does not support item assignment"
     ]
    }
   ],
   "source": [
    "a[1]='kalin'"
   ]
  },
  {
   "cell_type": "code",
   "execution_count": 12,
   "id": "40d0f2b5",
   "metadata": {},
   "outputs": [],
   "source": [
    "b=[12,313,'ayush',67,'thakur']"
   ]
  },
  {
   "cell_type": "code",
   "execution_count": 13,
   "id": "4e8d637c",
   "metadata": {},
   "outputs": [
    {
     "data": {
      "text/plain": [
       "list"
      ]
     },
     "execution_count": 13,
     "metadata": {},
     "output_type": "execute_result"
    }
   ],
   "source": [
    "type(b)"
   ]
  },
  {
   "cell_type": "code",
   "execution_count": 15,
   "id": "467f47b0",
   "metadata": {},
   "outputs": [],
   "source": [
    "b[1]='khatam'"
   ]
  },
  {
   "cell_type": "code",
   "execution_count": 16,
   "id": "cb422686",
   "metadata": {},
   "outputs": [
    {
     "data": {
      "text/plain": [
       "[12, 'khatam', 'ayush', 67, 'thakur']"
      ]
     },
     "execution_count": 16,
     "metadata": {},
     "output_type": "execute_result"
    }
   ],
   "source": [
    "b"
   ]
  },
  {
   "cell_type": "code",
   "execution_count": null,
   "id": "5a5cca45",
   "metadata": {},
   "outputs": [],
   "source": [
    "touple are imutable while list are mutable"
   ]
  },
  {
   "cell_type": "markdown",
   "id": "54d44661",
   "metadata": {},
   "source": [
    "# 14. How do you type a tuple value that only contains the integer 42?"
   ]
  },
  {
   "cell_type": "code",
   "execution_count": 26,
   "id": "cfefb271",
   "metadata": {},
   "outputs": [],
   "source": [
    "r=tuple([42])"
   ]
  },
  {
   "cell_type": "code",
   "execution_count": 27,
   "id": "9df6836c",
   "metadata": {},
   "outputs": [
    {
     "data": {
      "text/plain": [
       "(42,)"
      ]
     },
     "execution_count": 27,
     "metadata": {},
     "output_type": "execute_result"
    }
   ],
   "source": [
    "r"
   ]
  },
  {
   "cell_type": "code",
   "execution_count": 29,
   "id": "49041b29",
   "metadata": {},
   "outputs": [
    {
     "data": {
      "text/plain": [
       "tuple"
      ]
     },
     "execution_count": 29,
     "metadata": {},
     "output_type": "execute_result"
    }
   ],
   "source": [
    "type(r)"
   ]
  },
  {
   "cell_type": "markdown",
   "id": "380151c7",
   "metadata": {},
   "source": [
    "# 15. How do you get a list value's tuple form? How do you get a tuple value's list form?"
   ]
  },
  {
   "cell_type": "code",
   "execution_count": 30,
   "id": "6e84d5a8",
   "metadata": {},
   "outputs": [],
   "source": [
    "a=tuple([45,56,67])"
   ]
  },
  {
   "cell_type": "code",
   "execution_count": 31,
   "id": "ea51afe3",
   "metadata": {},
   "outputs": [
    {
     "data": {
      "text/plain": [
       "(45, 56, 67)"
      ]
     },
     "execution_count": 31,
     "metadata": {},
     "output_type": "execute_result"
    }
   ],
   "source": [
    "a"
   ]
  },
  {
   "cell_type": "code",
   "execution_count": 32,
   "id": "e0c019dd",
   "metadata": {},
   "outputs": [
    {
     "data": {
      "text/plain": [
       "tuple"
      ]
     },
     "execution_count": 32,
     "metadata": {},
     "output_type": "execute_result"
    }
   ],
   "source": [
    "type(a)"
   ]
  },
  {
   "cell_type": "code",
   "execution_count": 36,
   "id": "c480792e",
   "metadata": {},
   "outputs": [],
   "source": [
    "b=list(a)"
   ]
  },
  {
   "cell_type": "markdown",
   "id": "0b2e5fee",
   "metadata": {},
   "source": [
    "b"
   ]
  },
  {
   "cell_type": "code",
   "execution_count": 35,
   "id": "19222747",
   "metadata": {},
   "outputs": [
    {
     "data": {
      "text/plain": [
       "list"
      ]
     },
     "execution_count": 35,
     "metadata": {},
     "output_type": "execute_result"
    }
   ],
   "source": [
    "type(b)"
   ]
  },
  {
   "cell_type": "markdown",
   "id": "d4f4ea6c",
   "metadata": {},
   "source": [
    "# 16. Variables that \"contain\" list values are not necessarily lists themselves. Instead, what do they contain?"
   ]
  },
  {
   "cell_type": "markdown",
   "id": "771d39ad",
   "metadata": {},
   "source": [
    "Variables will contain references to list values rather than list values themselves.They contain references to the list values"
   ]
  },
  {
   "cell_type": "code",
   "execution_count": 37,
   "id": "01db1f3c",
   "metadata": {},
   "outputs": [
    {
     "name": "stdout",
     "output_type": "stream",
     "text": [
      "[1, 2, 3]\n",
      "821417430080\n"
     ]
    }
   ],
   "source": [
    "var = [1,2,3]\n",
    "print(var)\n",
    "print(id(var))"
   ]
  },
  {
   "cell_type": "markdown",
   "id": "af07e10f",
   "metadata": {},
   "source": [
    "# 17. How do you distinguish between copy.copy() and copy.deepcopy()?"
   ]
  },
  {
   "cell_type": "code",
   "execution_count": null,
   "id": "4ba2affe",
   "metadata": {},
   "outputs": [],
   "source": [
    "copy() returns a shallow copy of list and deepcopy() return a deep copy of list.\n",
    "deepcopy: In case of deep copy, a copy of object is copied in other object. It means that any changes made to a copy of object do not reflect in the original object.\n",
    "shallow copy: In case of shallow copy, a reference of object is copied in other object. It means that any changes made to a copy of object do reflect in the original object."
   ]
  },
  {
   "cell_type": "code",
   "execution_count": null,
   "id": "7c14398e",
   "metadata": {},
   "outputs": [],
   "source": []
  }
 ],
 "metadata": {
  "kernelspec": {
   "display_name": "Python 3 (ipykernel)",
   "language": "python",
   "name": "python3"
  },
  "language_info": {
   "codemirror_mode": {
    "name": "ipython",
    "version": 3
   },
   "file_extension": ".py",
   "mimetype": "text/x-python",
   "name": "python",
   "nbconvert_exporter": "python",
   "pygments_lexer": "ipython3",
   "version": "3.9.7"
  }
 },
 "nbformat": 4,
 "nbformat_minor": 5
}

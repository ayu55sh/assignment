{
 "cells": [
  {
   "cell_type": "code",
   "execution_count": 1,
   "id": "f9cd1376",
   "metadata": {},
   "outputs": [
    {
     "data": {
      "text/plain": [
       "4"
      ]
     },
     "execution_count": 1,
     "metadata": {},
     "output_type": "execute_result"
    }
   ],
   "source": [
    "len(\"sudh\")"
   ]
  },
  {
   "cell_type": "code",
   "execution_count": 2,
   "id": "e766c88d",
   "metadata": {},
   "outputs": [
    {
     "name": "stdout",
     "output_type": "stream",
     "text": [
      "dfhvdashj\n"
     ]
    }
   ],
   "source": [
    "print(\"dfhvdashj\")"
   ]
  },
  {
   "cell_type": "code",
   "execution_count": 4,
   "id": "5b50caba",
   "metadata": {},
   "outputs": [],
   "source": [
    "def test():\n",
    "    pass"
   ]
  },
  {
   "cell_type": "code",
   "execution_count": 4,
   "id": "c67193ba",
   "metadata": {},
   "outputs": [],
   "source": [
    "def test1():\n",
    "    print(\"this is my first function\")"
   ]
  },
  {
   "cell_type": "code",
   "execution_count": 5,
   "id": "0d2fefb3",
   "metadata": {},
   "outputs": [
    {
     "name": "stdout",
     "output_type": "stream",
     "text": [
      "this is my first function\n"
     ]
    }
   ],
   "source": [
    "test1()"
   ]
  },
  {
   "cell_type": "code",
   "execution_count": 6,
   "id": "f5b0e289",
   "metadata": {},
   "outputs": [
    {
     "name": "stdout",
     "output_type": "stream",
     "text": [
      "this is my first function\n"
     ]
    }
   ],
   "source": [
    "test1()"
   ]
  },
  {
   "cell_type": "code",
   "execution_count": 7,
   "id": "b5f05906",
   "metadata": {},
   "outputs": [
    {
     "name": "stdout",
     "output_type": "stream",
     "text": [
      "this is my first function\n"
     ]
    }
   ],
   "source": [
    "a = test1()"
   ]
  },
  {
   "cell_type": "code",
   "execution_count": 8,
   "id": "ee9489fe",
   "metadata": {},
   "outputs": [
    {
     "ename": "TypeError",
     "evalue": "unsupported operand type(s) for +: 'NoneType' and 'str'",
     "output_type": "error",
     "traceback": [
      "\u001b[1;31m---------------------------------------------------------------------------\u001b[0m",
      "\u001b[1;31mTypeError\u001b[0m                                 Traceback (most recent call last)",
      "\u001b[1;32m~\\AppData\\Local\\Temp/ipykernel_3224/2234722170.py\u001b[0m in \u001b[0;36m<module>\u001b[1;34m\u001b[0m\n\u001b[1;32m----> 1\u001b[1;33m \u001b[0ma\u001b[0m \u001b[1;33m+\u001b[0m \u001b[1;34m\"sudh\"\u001b[0m\u001b[1;33m\u001b[0m\u001b[1;33m\u001b[0m\u001b[0m\n\u001b[0m",
      "\u001b[1;31mTypeError\u001b[0m: unsupported operand type(s) for +: 'NoneType' and 'str'"
     ]
    }
   ],
   "source": [
    "a + \"sudh\""
   ]
  },
  {
   "cell_type": "code",
   "execution_count": 9,
   "id": "624eebc6",
   "metadata": {},
   "outputs": [
    {
     "data": {
      "text/plain": [
       "'ayushthakur'"
      ]
     },
     "execution_count": 9,
     "metadata": {},
     "output_type": "execute_result"
    }
   ],
   "source": [
    "\"ayush\"+\"thakur\""
   ]
  },
  {
   "cell_type": "code",
   "execution_count": 10,
   "id": "a89dd1b4",
   "metadata": {},
   "outputs": [
    {
     "name": "stdout",
     "output_type": "stream",
     "text": [
      "this is my first function\n"
     ]
    },
    {
     "data": {
      "text/plain": [
       "NoneType"
      ]
     },
     "execution_count": 10,
     "metadata": {},
     "output_type": "execute_result"
    }
   ],
   "source": [
    "type(test1())"
   ]
  },
  {
   "cell_type": "code",
   "execution_count": 11,
   "id": "edd43ebe",
   "metadata": {},
   "outputs": [
    {
     "data": {
      "text/plain": [
       "'None'"
      ]
     },
     "execution_count": 11,
     "metadata": {},
     "output_type": "execute_result"
    }
   ],
   "source": [
    "str(a)"
   ]
  },
  {
   "cell_type": "code",
   "execution_count": 12,
   "id": "a93c09dd",
   "metadata": {},
   "outputs": [],
   "source": [
    "def test2():\n",
    "    return\"this is my second fundtion\""
   ]
  },
  {
   "cell_type": "code",
   "execution_count": 13,
   "id": "d050b77e",
   "metadata": {},
   "outputs": [
    {
     "data": {
      "text/plain": [
       "'this is my second fundtion'"
      ]
     },
     "execution_count": 13,
     "metadata": {},
     "output_type": "execute_result"
    }
   ],
   "source": [
    "test2()"
   ]
  },
  {
   "cell_type": "code",
   "execution_count": 14,
   "id": "2d6009b2",
   "metadata": {},
   "outputs": [
    {
     "data": {
      "text/plain": [
       "str"
      ]
     },
     "execution_count": 14,
     "metadata": {},
     "output_type": "execute_result"
    }
   ],
   "source": [
    "type (test2())"
   ]
  },
  {
   "cell_type": "code",
   "execution_count": 15,
   "id": "3e2af565",
   "metadata": {},
   "outputs": [
    {
     "data": {
      "text/plain": [
       "'this is my second fundtionayush'"
      ]
     },
     "execution_count": 15,
     "metadata": {},
     "output_type": "execute_result"
    }
   ],
   "source": [
    "test2()+\"ayush\""
   ]
  },
  {
   "cell_type": "code",
   "execution_count": 16,
   "id": "c4a808c6",
   "metadata": {},
   "outputs": [],
   "source": [
    "def test3():\n",
    "    return 7434729444"
   ]
  },
  {
   "cell_type": "code",
   "execution_count": 17,
   "id": "9acbf441",
   "metadata": {},
   "outputs": [
    {
     "data": {
      "text/plain": [
       "int"
      ]
     },
     "execution_count": 17,
     "metadata": {},
     "output_type": "execute_result"
    }
   ],
   "source": [
    "type(test3())"
   ]
  },
  {
   "cell_type": "code",
   "execution_count": 18,
   "id": "22332fd1",
   "metadata": {},
   "outputs": [],
   "source": [
    "def test4():\n",
    "    return 4,3,\"ayush\",[2,4,3,4,6,7]"
   ]
  },
  {
   "cell_type": "code",
   "execution_count": 19,
   "id": "fa802cab",
   "metadata": {},
   "outputs": [
    {
     "data": {
      "text/plain": [
       "(4, 3, 'ayush', [2, 4, 3, 4, 6, 7])"
      ]
     },
     "execution_count": 19,
     "metadata": {},
     "output_type": "execute_result"
    }
   ],
   "source": [
    "test4()"
   ]
  },
  {
   "cell_type": "code",
   "execution_count": 20,
   "id": "bb165c1e",
   "metadata": {},
   "outputs": [
    {
     "data": {
      "text/plain": [
       "tuple"
      ]
     },
     "execution_count": 20,
     "metadata": {},
     "output_type": "execute_result"
    }
   ],
   "source": [
    "type(test4())"
   ]
  },
  {
   "cell_type": "code",
   "execution_count": 21,
   "id": "11afecaf",
   "metadata": {},
   "outputs": [],
   "source": [
    "b=test4()"
   ]
  },
  {
   "cell_type": "code",
   "execution_count": 22,
   "id": "0d2b199f",
   "metadata": {},
   "outputs": [
    {
     "data": {
      "text/plain": [
       "(4, 3, 'ayush', [2, 4, 3, 4, 6, 7])"
      ]
     },
     "execution_count": 22,
     "metadata": {},
     "output_type": "execute_result"
    }
   ],
   "source": [
    "b"
   ]
  },
  {
   "cell_type": "code",
   "execution_count": 23,
   "id": "0027cd7e",
   "metadata": {},
   "outputs": [
    {
     "data": {
      "text/plain": [
       "3"
      ]
     },
     "execution_count": 23,
     "metadata": {},
     "output_type": "execute_result"
    }
   ],
   "source": [
    "b[1]"
   ]
  },
  {
   "cell_type": "code",
   "execution_count": 24,
   "id": "2c3cc968",
   "metadata": {},
   "outputs": [
    {
     "data": {
      "text/plain": [
       "[2, 4, 3, 4, 6, 7]"
      ]
     },
     "execution_count": 24,
     "metadata": {},
     "output_type": "execute_result"
    }
   ],
   "source": [
    "b[3]"
   ]
  },
  {
   "cell_type": "code",
   "execution_count": 25,
   "id": "5489b5e3",
   "metadata": {},
   "outputs": [
    {
     "data": {
      "text/plain": [
       "'ayush'"
      ]
     },
     "execution_count": 25,
     "metadata": {},
     "output_type": "execute_result"
    }
   ],
   "source": [
    "b[2]"
   ]
  },
  {
   "cell_type": "code",
   "execution_count": 26,
   "id": "17b0f991",
   "metadata": {},
   "outputs": [
    {
     "data": {
      "text/plain": [
       "(4, 3, 'ayush', [2, 4, 3, 4, 6, 7])"
      ]
     },
     "execution_count": 26,
     "metadata": {},
     "output_type": "execute_result"
    }
   ],
   "source": [
    "test4()"
   ]
  },
  {
   "cell_type": "code",
   "execution_count": 27,
   "id": "c18aebe4",
   "metadata": {},
   "outputs": [],
   "source": [
    "a=1\n",
    "b=2\n",
    "c=3\n",
    "f=[7,76,8776,98764,98]"
   ]
  },
  {
   "cell_type": "code",
   "execution_count": 28,
   "id": "9f5107d0",
   "metadata": {},
   "outputs": [],
   "source": [
    "a,v,b,f=3,4,54,\"dhsjsdkjh\""
   ]
  },
  {
   "cell_type": "code",
   "execution_count": 34,
   "id": "03a3b11e",
   "metadata": {},
   "outputs": [],
   "source": [
    "a,v,c,t=test4()"
   ]
  },
  {
   "cell_type": "code",
   "execution_count": 30,
   "id": "79d77a1a",
   "metadata": {},
   "outputs": [
    {
     "data": {
      "text/plain": [
       "4"
      ]
     },
     "execution_count": 30,
     "metadata": {},
     "output_type": "execute_result"
    }
   ],
   "source": [
    "a"
   ]
  },
  {
   "cell_type": "code",
   "execution_count": 31,
   "id": "4467d8e2",
   "metadata": {},
   "outputs": [
    {
     "data": {
      "text/plain": [
       "'dhsjsdkjh'"
      ]
     },
     "execution_count": 31,
     "metadata": {},
     "output_type": "execute_result"
    }
   ],
   "source": [
    "f"
   ]
  },
  {
   "cell_type": "code",
   "execution_count": 32,
   "id": "82dca8a6",
   "metadata": {},
   "outputs": [
    {
     "data": {
      "text/plain": [
       "'ayush'"
      ]
     },
     "execution_count": 32,
     "metadata": {},
     "output_type": "execute_result"
    }
   ],
   "source": [
    "c"
   ]
  },
  {
   "cell_type": "code",
   "execution_count": 35,
   "id": "ecb2fc57",
   "metadata": {},
   "outputs": [
    {
     "data": {
      "text/plain": [
       "3"
      ]
     },
     "execution_count": 35,
     "metadata": {},
     "output_type": "execute_result"
    }
   ],
   "source": [
    "v"
   ]
  },
  {
   "cell_type": "code",
   "execution_count": 36,
   "id": "245a7f44",
   "metadata": {},
   "outputs": [
    {
     "data": {
      "text/plain": [
       "[2, 4, 3, 4, 6, 7]"
      ]
     },
     "execution_count": 36,
     "metadata": {},
     "output_type": "execute_result"
    }
   ],
   "source": [
    "t"
   ]
  },
  {
   "cell_type": "code",
   "execution_count": 37,
   "id": "38249479",
   "metadata": {},
   "outputs": [],
   "source": [
    "def test5():\n",
    "    a=6*7/6\n",
    "    return a"
   ]
  },
  {
   "cell_type": "code",
   "execution_count": 38,
   "id": "524faea3",
   "metadata": {},
   "outputs": [
    {
     "data": {
      "text/plain": [
       "7.0"
      ]
     },
     "execution_count": 38,
     "metadata": {},
     "output_type": "execute_result"
    }
   ],
   "source": [
    "test5()"
   ]
  },
  {
   "cell_type": "code",
   "execution_count": 39,
   "id": "faea7798",
   "metadata": {},
   "outputs": [
    {
     "data": {
      "text/plain": [
       "12"
      ]
     },
     "execution_count": 39,
     "metadata": {},
     "output_type": "execute_result"
    }
   ],
   "source": [
    "len(\"fngfdghdgfjh\")"
   ]
  },
  {
   "cell_type": "code",
   "execution_count": 45,
   "id": "e23217ce",
   "metadata": {},
   "outputs": [],
   "source": [
    "l =[3,4,5,6,7,7,\"ayush\",[2,3,4,5,6,67]]"
   ]
  },
  {
   "cell_type": "code",
   "execution_count": 46,
   "id": "002c0de3",
   "metadata": {},
   "outputs": [],
   "source": [
    "def test6(a):\n",
    "    n=[]\n",
    "    if type(a)==list:\n",
    "        for i in a:\n",
    "            if type(i)==int:\n",
    "                n.append(i)\n",
    "    return n              "
   ]
  },
  {
   "cell_type": "code",
   "execution_count": 48,
   "id": "7ccb4551",
   "metadata": {},
   "outputs": [
    {
     "data": {
      "text/plain": [
       "[3, 4, 5, 6, 7, 7]"
      ]
     },
     "execution_count": 48,
     "metadata": {},
     "output_type": "execute_result"
    }
   ],
   "source": [
    "test6(l)"
   ]
  },
  {
   "cell_type": "code",
   "execution_count": 50,
   "id": "310fdbe7",
   "metadata": {},
   "outputs": [
    {
     "data": {
      "text/plain": [
       "[3, 4, 5, 6, 7, 8, 45]"
      ]
     },
     "execution_count": 50,
     "metadata": {},
     "output_type": "execute_result"
    }
   ],
   "source": [
    "test6([3,4,5,6,7,8,45,\"jhdfkckjhd\",(\"dbnmdbsj\",\"dshbjhdbsjh\",3773)])"
   ]
  },
  {
   "cell_type": "code",
   "execution_count": 54,
   "id": "ac80555b",
   "metadata": {},
   "outputs": [],
   "source": [
    "def test8(c):\n",
    "    if type (c)==dict:\n",
    "        return c.keys()\n",
    "    else:\n",
    "        return \"you have not passed a dic\""
   ]
  },
  {
   "cell_type": "code",
   "execution_count": 55,
   "id": "983a7f59",
   "metadata": {},
   "outputs": [
    {
     "data": {
      "text/plain": [
       "'you have not passed a dic'"
      ]
     },
     "execution_count": 55,
     "metadata": {},
     "output_type": "execute_result"
    }
   ],
   "source": [
    "test8(\"hdsvhg\")"
   ]
  },
  {
   "cell_type": "code",
   "execution_count": 56,
   "id": "f400fcac",
   "metadata": {},
   "outputs": [
    {
     "data": {
      "text/plain": [
       "dict_keys(['a', 'b', 'c'])"
      ]
     },
     "execution_count": 56,
     "metadata": {},
     "output_type": "execute_result"
    }
   ],
   "source": [
    "test8({\"a\":\"fdggfg\",\"b\":\"dhjgsjh\",\"c\":765667})"
   ]
  },
  {
   "cell_type": "code",
   "execution_count": 64,
   "id": "a18e0e75",
   "metadata": {},
   "outputs": [],
   "source": [
    "def test9(a,b):\n",
    "    if type(a)==list and type (b)==list:\n",
    "        a.extend(b)\n",
    "        return a\n",
    "    else:\n",
    "        return\"either of your data is not a list\""
   ]
  },
  {
   "cell_type": "code",
   "execution_count": 65,
   "id": "81381647",
   "metadata": {},
   "outputs": [
    {
     "data": {
      "text/plain": [
       "'either of your data is not a list'"
      ]
     },
     "execution_count": 65,
     "metadata": {},
     "output_type": "execute_result"
    }
   ],
   "source": [
    "test9(839399,5757)"
   ]
  },
  {
   "cell_type": "code",
   "execution_count": 66,
   "id": "88383b34",
   "metadata": {},
   "outputs": [
    {
     "data": {
      "text/plain": [
       "[4, 5, 5, 6, 44, 56, 76, 8, 77, 99]"
      ]
     },
     "execution_count": 66,
     "metadata": {},
     "output_type": "execute_result"
    }
   ],
   "source": [
    "test9([4,5,5,6,44],[56,76,8,77,99])"
   ]
  },
  {
   "cell_type": "code",
   "execution_count": 70,
   "id": "6ff92ab3",
   "metadata": {},
   "outputs": [],
   "source": [
    "def test10(n):\n",
    "    \"\"\"this is a function which will help you to get a code\"\"\"\n",
    "    for i in range(0,n):\n",
    "        for j in range (0,i+1):\n",
    "            print(\"*\",end=\"\")\n",
    "        print(\"\\n\")    "
   ]
  },
  {
   "cell_type": "code",
   "execution_count": 68,
   "id": "06d6919f",
   "metadata": {},
   "outputs": [
    {
     "name": "stdout",
     "output_type": "stream",
     "text": [
      "*\n",
      "\n",
      "**\n",
      "\n",
      "***\n",
      "\n",
      "****\n",
      "\n",
      "*****\n",
      "\n"
     ]
    }
   ],
   "source": [
    "test10(5)"
   ]
  },
  {
   "cell_type": "code",
   "execution_count": 69,
   "id": "1d661b65",
   "metadata": {},
   "outputs": [
    {
     "name": "stdout",
     "output_type": "stream",
     "text": [
      "*\n",
      "\n",
      "**\n",
      "\n",
      "***\n",
      "\n",
      "****\n",
      "\n",
      "*****\n",
      "\n",
      "******\n",
      "\n",
      "*******\n",
      "\n",
      "********\n",
      "\n",
      "*********\n",
      "\n",
      "**********\n",
      "\n",
      "***********\n",
      "\n",
      "************\n",
      "\n"
     ]
    }
   ],
   "source": [
    "test10(12)"
   ]
  },
  {
   "cell_type": "code",
   "execution_count": null,
   "id": "a20e16af",
   "metadata": {},
   "outputs": [],
   "source": [
    "len()"
   ]
  }
 ],
 "metadata": {
  "kernelspec": {
   "display_name": "Python 3 (ipykernel)",
   "language": "python",
   "name": "python3"
  },
  "language_info": {
   "codemirror_mode": {
    "name": "ipython",
    "version": 3
   },
   "file_extension": ".py",
   "mimetype": "text/x-python",
   "name": "python",
   "nbconvert_exporter": "python",
   "pygments_lexer": "ipython3",
   "version": "3.9.7"
  }
 },
 "nbformat": 4,
 "nbformat_minor": 5
}

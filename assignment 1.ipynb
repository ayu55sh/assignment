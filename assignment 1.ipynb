{
 "cells": [
  {
   "cell_type": "code",
   "execution_count": null,
   "id": "07c3cd3e",
   "metadata": {},
   "outputs": [],
   "source": [
    "#1. In the below elements which of them are values or an expression? eg:- values can be integer or string and expressions will be mathematical operators.\n",
    "\n",
    "# ans-  MATHEMATICAL OPERATOR  - *,-,+,/\n",
    "#       STRING                 - 'HELLO'\n",
    "#       INTEGER                - 6\n"
   ]
  },
  {
   "cell_type": "code",
   "execution_count": 4,
   "id": "2d80af06",
   "metadata": {},
   "outputs": [],
   "source": [
    "a='hello'"
   ]
  },
  {
   "cell_type": "code",
   "execution_count": 5,
   "id": "d3ab2fba",
   "metadata": {},
   "outputs": [
    {
     "data": {
      "text/plain": [
       "str"
      ]
     },
     "execution_count": 5,
     "metadata": {},
     "output_type": "execute_result"
    }
   ],
   "source": [
    "type(a)"
   ]
  },
  {
   "cell_type": "code",
   "execution_count": 6,
   "id": "84803ea5",
   "metadata": {},
   "outputs": [],
   "source": [
    "a=6"
   ]
  },
  {
   "cell_type": "raw",
   "id": "0e512242",
   "metadata": {},
   "source": [
    "type(a)"
   ]
  },
  {
   "cell_type": "code",
   "execution_count": 1,
   "id": "81cb6ff3",
   "metadata": {},
   "outputs": [],
   "source": [
    "a=-87.8"
   ]
  },
  {
   "cell_type": "code",
   "execution_count": 2,
   "id": "c36f65d7",
   "metadata": {},
   "outputs": [
    {
     "data": {
      "text/plain": [
       "float"
      ]
     },
     "execution_count": 2,
     "metadata": {},
     "output_type": "execute_result"
    }
   ],
   "source": [
    "type(a)"
   ]
  },
  {
   "cell_type": "code",
   "execution_count": null,
   "id": "dbbc1e6a",
   "metadata": {},
   "outputs": [],
   "source": [
    "#2. What is the difference between string and variable?\n",
    "#ans- string is basically a literal text string whereas variable can store integer,float,string,class e.t.c in it"
   ]
  },
  {
   "cell_type": "code",
   "execution_count": null,
   "id": "846ae6e2",
   "metadata": {},
   "outputs": [],
   "source": [
    "#3. Describe three different data types.\n",
    "ans- int, float, str, bool"
   ]
  },
  {
   "cell_type": "code",
   "execution_count": null,
   "id": "e00553ac",
   "metadata": {},
   "outputs": [],
   "source": [
    "#4. What is an expression made up of? What do all expressions do?\n",
    "ans- expression is made up of operations,constants and variable, expression rpresent the value."
   ]
  },
  {
   "cell_type": "code",
   "execution_count": null,
   "id": "b4b4c9b0",
   "metadata": {},
   "outputs": [],
   "source": [
    "# 5. This assignment statements, like spam = 10. What is the difference between an expression and a statement?\n",
    "#ans - expression is made up of values ,container,mathematical operators where as statement is just command like print"
   ]
  },
  {
   "cell_type": "code",
   "execution_count": 8,
   "id": "8a427dd3",
   "metadata": {},
   "outputs": [
    {
     "data": {
      "text/plain": [
       "23"
      ]
     },
     "execution_count": 8,
     "metadata": {},
     "output_type": "execute_result"
    }
   ],
   "source": [
    "#6. After running the following code, what does the variable bacon contain?\n",
    "bacon = 22\n",
    "bacon + 1\n",
    "\n",
    "#ans- 23\n"
   ]
  },
  {
   "cell_type": "code",
   "execution_count": 9,
   "id": "f2fe9072",
   "metadata": {},
   "outputs": [
    {
     "data": {
      "text/plain": [
       "'spamspamspam'"
      ]
     },
     "execution_count": 9,
     "metadata": {},
     "output_type": "execute_result"
    }
   ],
   "source": [
    "#7. What should the values of the following two terms be?\n",
    "'spam' + 'spamspam'\n",
    "'spam' * 3\n",
    "#ans- 'spamspamspam'"
   ]
  },
  {
   "cell_type": "code",
   "execution_count": null,
   "id": "56f1d423",
   "metadata": {},
   "outputs": [],
   "source": [
    "#8. Why is eggs a valid variable name while 100 is invalid?\n",
    "#ans- eggs a valid variable name while 100 is invalid because we can't ive a variable name with a integer."
   ]
  },
  {
   "cell_type": "code",
   "execution_count": null,
   "id": "573e8d32",
   "metadata": {},
   "outputs": [],
   "source": [
    "#9. What three functions can be used to get the integer, floating-point number, or string version of a value?\n",
    "ans- int(),float(),str()"
   ]
  },
  {
   "cell_type": "code",
   "execution_count": 10,
   "id": "ef853686",
   "metadata": {},
   "outputs": [
    {
     "ename": "TypeError",
     "evalue": "can only concatenate str (not \"int\") to str",
     "output_type": "error",
     "traceback": [
      "\u001b[1;31m---------------------------------------------------------------------------\u001b[0m",
      "\u001b[1;31mTypeError\u001b[0m                                 Traceback (most recent call last)",
      "\u001b[1;32m~\\AppData\\Local\\Temp/ipykernel_1608/1770447404.py\u001b[0m in \u001b[0;36m<module>\u001b[1;34m\u001b[0m\n\u001b[0;32m      1\u001b[0m \u001b[1;31m#10. Why does this expression cause an error? How can you fix it?\u001b[0m\u001b[1;33m\u001b[0m\u001b[1;33m\u001b[0m\u001b[0m\n\u001b[0;32m      2\u001b[0m \u001b[1;33m\u001b[0m\u001b[0m\n\u001b[1;32m----> 3\u001b[1;33m \u001b[1;34m'I have eaten'\u001b[0m \u001b[1;33m+\u001b[0m \u001b[1;36m99\u001b[0m \u001b[1;33m+\u001b[0m \u001b[1;34m'burritos'\u001b[0m\u001b[1;33m\u001b[0m\u001b[1;33m\u001b[0m\u001b[0m\n\u001b[0m",
      "\u001b[1;31mTypeError\u001b[0m: can only concatenate str (not \"int\") to str"
     ]
    }
   ],
   "source": [
    "#10. Why does this expression cause an error? How can you fix it?\n",
    "\n",
    "'I have eaten' + 99 + 'burritos'\n",
    "ans - \n",
    "    here we can easily see that we use here string so in middle of the sentance we use a integer so we haqve to convert it into a strin"
   ]
  },
  {
   "cell_type": "code",
   "execution_count": 11,
   "id": "d83ac6be",
   "metadata": {},
   "outputs": [
    {
     "data": {
      "text/plain": [
       "'I have eaten99burritos'"
      ]
     },
     "execution_count": 11,
     "metadata": {},
     "output_type": "execute_result"
    }
   ],
   "source": [
    "'I have eaten' + '99' + 'burritos'"
   ]
  },
  {
   "cell_type": "code",
   "execution_count": null,
   "id": "90aeefdc",
   "metadata": {},
   "outputs": [],
   "source": []
  }
 ],
 "metadata": {
  "kernelspec": {
   "display_name": "Python 3 (ipykernel)",
   "language": "python",
   "name": "python3"
  },
  "language_info": {
   "codemirror_mode": {
    "name": "ipython",
    "version": 3
   },
   "file_extension": ".py",
   "mimetype": "text/x-python",
   "name": "python",
   "nbconvert_exporter": "python",
   "pygments_lexer": "ipython3",
   "version": "3.9.7"
  }
 },
 "nbformat": 4,
 "nbformat_minor": 5
}

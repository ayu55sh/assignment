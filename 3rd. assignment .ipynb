{
 "cells": [
  {
   "cell_type": "code",
   "execution_count": null,
   "id": "e3fd65fd",
   "metadata": {},
   "outputs": [],
   "source": [
    "# 1. Why are functions advantageous to have in your programs?\n",
    "# ans=> Functions reduce the need for duplicate code. This makes programs shorter, easier to read, and easier to update.\n"
   ]
  },
  {
   "cell_type": "code",
   "execution_count": null,
   "id": "e7dd9579",
   "metadata": {},
   "outputs": [],
   "source": [
    "# 2. When does the code in a function run: when it's specified or when it's called?\n",
    "\n",
    "#ans=> A Function in Python is a piece of code which runs when it is referenced.\n",
    "#      It is used to utilize the code in more than one place in a program.\n",
    "#      It is also called method or procedure. \n"
   ]
  },
  {
   "cell_type": "code",
   "execution_count": null,
   "id": "a170ede9",
   "metadata": {},
   "outputs": [],
   "source": [
    "#   3. What statement creates a function?\n",
    "\n",
    "#ans=>The “def” keyword is a statement for defining a function."
   ]
  },
  {
   "cell_type": "code",
   "execution_count": null,
   "id": "5a0fe186",
   "metadata": {},
   "outputs": [],
   "source": [
    "#4. What is the difference between a function and a function call?\n",
    "#ans=>A function is a piece of code which enhanced the reusability and modularity of your program. \n",
    "#     It means that piece of code need not be written again.\n",
    "#      where as \n",
    "#      A function call means invoking or calling that function. \n",
    "#      Unless a function is called there is no use of that function.\n"
   ]
  },
  {
   "cell_type": "code",
   "execution_count": null,
   "id": "0031d73c",
   "metadata": {},
   "outputs": [],
   "source": [
    "# 5. How many global scopes are there in a Python program? How many local scopes?\n",
    "#ans=>There's only one global Python scope per program execution.\n",
    "#     This scope remains in existence until the program terminates and all its names are forgotten.\n",
    "#     Otherwise, the next time you were to run the program, the names would remember their values from the previous run.\n",
    "#      whereas\n",
    "#      a function which is written inside a python program will consitute a local scope.\n",
    "#       there are infinite local scope as we put inside a fuction."
   ]
  },
  {
   "cell_type": "code",
   "execution_count": null,
   "id": "18ff23d4",
   "metadata": {},
   "outputs": [],
   "source": [
    "#6.    What happens to variables in a local scope when the function call returns?\n",
    "\n",
    "#ans=> When the execution of the function terminates (returns), the local variables are destroyed.\n",
    "#      Codelens helps you visualize this because the local variables disappear after the function returns"
   ]
  },
  {
   "cell_type": "code",
   "execution_count": null,
   "id": "29d2e1e7",
   "metadata": {},
   "outputs": [],
   "source": [
    "# 7. What is the concept of a return value? Is it possible to have a return value in an expression?\n",
    "#ans=>  A return statement is used to end the execution of the function call and “returns” the result (value of the expression following the return keyword) to the caller.\n",
    "#      The statements after the return statements are not executed. \n",
    "#      If the return statement is without any expression, then the special value None is returned."
   ]
  },
  {
   "cell_type": "code",
   "execution_count": null,
   "id": "0ed30509",
   "metadata": {},
   "outputs": [],
   "source": [
    "# 8. If a function does not have a return statement, what is the return value of a call to that function?\n",
    "# ans=> If no return statement appears in a function definition,\n",
    "#      control automatically returns to the calling function after the last statement of the called function is executed.\n",
    "#   In this case, the return value of the called function is undefined."
   ]
  },
  {
   "cell_type": "code",
   "execution_count": null,
   "id": "e9de7afb",
   "metadata": {},
   "outputs": [],
   "source": [
    "#  9. How do you make a function variable refer to the global variable?\n",
    "#ans=> Use of “global†keyword to modify global variable inside a function.\n",
    "#      If your function has a local variable with same name as global variable \n",
    "#     and you want to modify the global variable inside function then use 'global' keyword before the variable name at start of function i.e."
   ]
  },
  {
   "cell_type": "code",
   "execution_count": null,
   "id": "a0ab1ed7",
   "metadata": {},
   "outputs": [],
   "source": [
    "# 10. What is the data type of None?\n",
    "\n",
    "#ans=>The None keyword is used to define a null value, or no value at all. None is not the same as 0, False, or an empty string."
   ]
  },
  {
   "cell_type": "code",
   "execution_count": null,
   "id": "bdc7ca82",
   "metadata": {},
   "outputs": [],
   "source": [
    "#11. What does the sentence import areallyourpetsnamederic do?\n",
    "#ans=>That import statement imports a module named areallyourpetsnamederic.\n",
    "#     (This isn't a real Python module, by the way.)"
   ]
  },
  {
   "cell_type": "code",
   "execution_count": null,
   "id": "3da7cb91",
   "metadata": {},
   "outputs": [],
   "source": [
    "#12. If you had a bacon() feature in a spam module, what would you call it after importing spam?\n",
    "\n",
    "#This function can be called with spam. bacon()."
   ]
  },
  {
   "cell_type": "code",
   "execution_count": null,
   "id": "a38539d8",
   "metadata": {},
   "outputs": [],
   "source": [
    "#13. What can you do to save a programme from crashing if it encounters an error?\n",
    "#    Prevents program from crashing if an error occurs. If an error occurs in a program,\n",
    "#    we don't want the program to unexpectedly crash on the user. Instead,\n",
    "#    error handling can be used to notify the user of why the error occurred and gracefully exit the process that caused the error.\n"
   ]
  },
  {
   "cell_type": "code",
   "execution_count": null,
   "id": "1191b948",
   "metadata": {},
   "outputs": [],
   "source": [
    "#14. What is the purpose of the try clause? What is the purpose of the except clause?\n",
    "# The try and except block in Python is used to catch and handle exceptions."
   ]
  },
  {
   "cell_type": "code",
   "execution_count": null,
   "id": "bb119f85",
   "metadata": {},
   "outputs": [],
   "source": []
  }
 ],
 "metadata": {
  "kernelspec": {
   "display_name": "Python 3 (ipykernel)",
   "language": "python",
   "name": "python3"
  },
  "language_info": {
   "codemirror_mode": {
    "name": "ipython",
    "version": 3
   },
   "file_extension": ".py",
   "mimetype": "text/x-python",
   "name": "python",
   "nbconvert_exporter": "python",
   "pygments_lexer": "ipython3",
   "version": "3.9.7"
  }
 },
 "nbformat": 4,
 "nbformat_minor": 5
}
